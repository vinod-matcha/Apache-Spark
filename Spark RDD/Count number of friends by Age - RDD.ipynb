{
 "cells": [
  {
   "cell_type": "code",
   "execution_count": 2,
   "metadata": {
    "collapsed": false,
    "deletable": true,
    "editable": true
   },
   "outputs": [],
   "source": [
    "#import friends file and create RDD of lines\n",
    "lines = sc.textFile(\"C:/SparkCourse/fakefriends.csv\")"
   ]
  },
  {
   "cell_type": "code",
   "execution_count": 4,
   "metadata": {
    "collapsed": false,
    "deletable": true,
    "editable": true
   },
   "outputs": [
    {
     "name": "stdout",
     "output_type": "stream",
     "text": [
      "['99,Keiko,69,491', '98,Will,44,178', '97,Nerys,69,361', '96,Ezri,25,233', '95,Odo,29,173']\n"
     ]
    }
   ],
   "source": [
    "print (lines.top(5))"
   ]
  },
  {
   "cell_type": "code",
   "execution_count": 48,
   "metadata": {
    "collapsed": true,
    "deletable": true,
    "editable": true
   },
   "outputs": [],
   "source": [
    "#python function to split line and return tuples of (age, friendscount, 1), with Integer values\n",
    "def splitByComma(line):\n",
    "    line = line.split(',')\n",
    "    return (int(line[2]), (int(line[3]), 1))"
   ]
  },
  {
   "cell_type": "code",
   "execution_count": 29,
   "metadata": {
    "collapsed": false,
    "deletable": true,
    "editable": true
   },
   "outputs": [],
   "source": [
    "#Transform into (age, (count, 1)), then again Transform by Key into (age, (totalFriendsCount, totalUsers ))\n",
    "friendsByAge = lines.map(lambda line: splitByComma(line)).reduceByKey(lambda x,y: ((x[0]+ y[0]), (x[1]+ y[1]))"
   ]
  },
  {
   "cell_type": "code",
   "execution_count": 30,
   "metadata": {
    "collapsed": false,
    "deletable": true,
    "editable": true
   },
   "outputs": [
    {
     "name": "stdout",
     "output_type": "stream",
     "text": [
      "[(69, (2352, 10)), (68, (2696, 10)), (67, (3434, 16)), (66, (2488, 9)), (65, (1491, 5))]\n"
     ]
    }
   ],
   "source": [
    "print (friendsByAge.top(5))"
   ]
  },
  {
   "cell_type": "code",
   "execution_count": 45,
   "metadata": {
    "collapsed": false,
    "deletable": true,
    "editable": true
   },
   "outputs": [],
   "source": [
    "# Transform into RDD as (age, avgFriendsByAge), then Transform to Sorted RDD on avgFriendsByAge\n",
    "avgFriendsByAge = friendsByAge.mapValues(lambda x: round(x[0]/x[1], 2)).sortBy(lambda x: x[1])"
   ]
  },
  {
   "cell_type": "code",
   "execution_count": 51,
   "metadata": {
    "collapsed": false,
    "deletable": true,
    "editable": true
   },
   "outputs": [
    {
     "name": "stdout",
     "output_type": "stream",
     "text": [
      "[(58, 116.55), (20, 165.0), (39, 169.29), (49, 184.67), (38, 193.53)]\n"
     ]
    }
   ],
   "source": [
    "print (avgFriendsByAge.take(5))"
   ]
  },
  {
   "cell_type": "markdown",
   "metadata": {
    "deletable": true,
    "editable": true
   },
   "source": [
    "### Final Spark Program, which can be submitted to a 'local' Spark instance, set appropriate master to run on cluster"
   ]
  },
  {
   "cell_type": "code",
   "execution_count": 50,
   "metadata": {
    "collapsed": false,
    "deletable": true,
    "editable": true
   },
   "outputs": [
    {
     "name": "stdout",
     "output_type": "stream",
     "text": [
      "age \t averageFriends\n",
      "58 \t 116.55\n",
      "20 \t 165.0\n",
      "39 \t 169.29\n",
      "49 \t 184.67\n",
      "38 \t 193.53\n",
      "25 \t 197.45\n",
      "60 \t 202.71\n",
      "22 \t 206.43\n",
      "32 \t 207.91\n",
      "28 \t 209.1\n",
      "35 \t 211.62\n",
      "19 \t 213.27\n",
      "67 \t 214.62\n",
      "29 \t 215.92\n",
      "59 \t 220.0\n",
      "62 \t 220.77\n",
      "53 \t 222.86\n",
      "46 \t 223.69\n",
      "27 \t 228.12\n",
      "43 \t 230.57\n",
      "47 \t 233.22\n",
      "24 \t 233.8\n",
      "69 \t 235.2\n",
      "30 \t 235.82\n",
      "26 \t 242.06\n",
      "34 \t 245.5\n",
      "23 \t 246.3\n",
      "36 \t 246.6\n",
      "37 \t 249.33\n",
      "40 \t 250.82\n",
      "50 \t 254.6\n",
      "61 \t 256.22\n",
      "57 \t 258.83\n",
      "31 \t 267.25\n",
      "41 \t 268.56\n",
      "68 \t 269.6\n",
      "66 \t 276.44\n",
      "54 \t 278.08\n",
      "64 \t 281.33\n",
      "48 \t 281.4\n",
      "44 \t 282.17\n",
      "55 \t 295.54\n",
      "65 \t 298.2\n",
      "51 \t 302.14\n",
      "42 \t 303.5\n",
      "56 \t 306.67\n",
      "45 \t 309.54\n",
      "33 \t 325.33\n",
      "52 \t 340.64\n",
      "18 \t 343.38\n",
      "21 \t 350.88\n",
      "63 \t 384.0\n"
     ]
    }
   ],
   "source": [
    "###################################################################################\n",
    "### Count number of friends by Age\n",
    "###################################################################################\n",
    "\n",
    "#broiler plate stuff to be un commented\n",
    "####from pyspark import SparkConf, SparkContext\n",
    "\n",
    "####conf = SparkConf().SetMaster(\"local\").setAppName(\"MovieCountByRatings\")\n",
    "####sc = SparkContext(conf = conf)\n",
    "\n",
    "#import friends file and create RDD of lines\n",
    "lines = sc.textFile(\"C:/SparkCourse/fakefriends.csv\")\n",
    "\n",
    "#python function to split line and return tuples of (age, friendscount, 1), with Integer values\n",
    "def splitByComma(line):\n",
    "    line = line.split(',')\n",
    "    return (int(line[2]), (int(line[3]), 1))\n",
    "\n",
    "#Transform into (age, (count, 1)), then again Transform by Key into (age, (totalFriendsCount, totalUsers ))\n",
    "friendsByAge = lines.map(lambda line: splitByComma(line)).reduceByKey(lambda x,y: ((x[0]+ y[0]), (x[1]+ y[1])))\n",
    "\n",
    "# Transform into RDD as (age, avgFriendsByAge), then Transform to Sorted RDD on avgFriendsByAge\n",
    "avgFriendsByAge = friendsByAge.mapValues(lambda x: round(x[0]/x[1], 2)).sortBy(lambda x: x[1])\n",
    "\n",
    "# Action to collect RDD into python object : to Return all the elements of the dataset RDD as an array at the driver program\n",
    "result = avgFriendsByAge.collect()\n",
    "print ('age \\t averageFriends')\n",
    "for age, averageFriends in result:\n",
    "    print (age, '\\t', averageFriends)"
   ]
  },
  {
   "cell_type": "code",
   "execution_count": null,
   "metadata": {
    "collapsed": true,
    "deletable": true,
    "editable": true
   },
   "outputs": [],
   "source": []
  }
 ],
 "metadata": {
  "kernelspec": {
   "display_name": "Python 3",
   "language": "python",
   "name": "python3"
  },
  "language_info": {
   "codemirror_mode": {
    "name": "ipython",
    "version": 3
   },
   "file_extension": ".py",
   "mimetype": "text/x-python",
   "name": "python",
   "nbconvert_exporter": "python",
   "pygments_lexer": "ipython3",
   "version": "3.5.2"
  }
 },
 "nbformat": 4,
 "nbformat_minor": 2
}
