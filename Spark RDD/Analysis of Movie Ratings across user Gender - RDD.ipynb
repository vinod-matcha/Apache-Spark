{
 "cells": [
  {
   "cell_type": "markdown",
   "metadata": {
    "deletable": true,
    "editable": true
   },
   "source": [
    "### Analysis of Movie Ratings across user Gender\n",
    "#### using RDD Pertisting"
   ]
  },
  {
   "cell_type": "code",
   "execution_count": 1,
   "metadata": {
    "collapsed": false,
    "deletable": true,
    "editable": true
   },
   "outputs": [],
   "source": [
    "#import movie ratings into RDD\n",
    "ratingLines = sc.textFile(\"C:/SparkCourse/ml-100k/u.data\")\n",
    "#import user details into RDD\n",
    "userLines = sc.textFile(\"///SparkCourse/ml-100k/u.user\")\n",
    "#import movie data into RDD\n",
    "movieLines = sc.textFile(\"C:/SparkCourse/ml-100k/u.item\")\n",
    "#import genre data into RDD\n",
    "genreLines = sc.textFile(\"C:/SparkCourse/ml-100k/u.genre\")"
   ]
  },
  {
   "cell_type": "code",
   "execution_count": 25,
   "metadata": {
    "collapsed": false,
    "deletable": true,
    "editable": true
   },
   "outputs": [
    {
     "name": "stdout",
     "output_type": "stream",
     "text": [
      "ratingRDD:\n",
      " [(943, 1330, 3), (943, 1228, 3), (943, 1188, 3), (943, 1074, 4), (943, 1067, 2)]\n",
      "userRDD:\n",
      " [(943, 'M', 'student'), (942, 'F', 'librarian'), (941, 'M', 'student')]\n",
      "movieRDD:\n",
      " [(1682, 'Scream of Stone (Schrei aus Stein) (1991)'), (1681, 'You So Crazy (1994)'), (1680, 'Sliding Doors (1998)')]\n",
      "genreRDD:\n",
      " [(0, 'unknown'), (1, 'Action'), (2, 'Adventure')]\n"
     ]
    }
   ],
   "source": [
    "#split on delimiter functions\n",
    "def splitRatingTab(line):\n",
    "    line = line.split('\\t')\n",
    "    return (int(line[0]), int(line[1]), int(line[2])) #(movieid, user, rating)\n",
    "def splitUserPipe(line):\n",
    "    line = line.split('|')\n",
    "    return (int(line[0]), line[2], line[3]) #(user, gender, occupation)\n",
    "def splitMoviePipe(line):\n",
    "    line = line.split('|')\n",
    "    return (int(line[0]), line[1]) #(movieid, moviename)\n",
    "def splitGenrePipe(line):\n",
    "    line = line.split('|')    \n",
    "    return (int(line[1]), line[0]) #(genreId, genre)\n",
    "\n",
    "\n",
    "# Transform to RDD as [(movieid, user, rating)] for movies with rating >=3, which are liked by viewers\n",
    "ratingRDD = ratingLines.map(lambda line: splitRatingTab(line))\n",
    "print ('ratingRDD:\\n',ratingRDD.top(5))\n",
    "\n",
    "# Transform to RDD as [(user, gender, occupation)]\n",
    "userRDD = userLines.map(splitUserPipe)\n",
    "print ('userRDD:\\n',userRDD.top(3))\n",
    "\n",
    "# Transform to RDD as [(movieid, moviename)]\n",
    "movieRDD = movieLines.map(splitMoviePipe)\n",
    "print ('movieRDD:\\n',movieRDD.top(3))\n",
    "\n",
    "# Transform to RDD as [(genreId, genre)]\n",
    "genreRDD = genreLines.map(lambda line: splitGenrePipe(line))\n",
    "print ('genreRDD:\\n',genreRDD.take(3))"
   ]
  },
  {
   "cell_type": "markdown",
   "metadata": {
    "deletable": true,
    "editable": true
   },
   "source": [
    "### Percentage of different RatingTypes given for Movies, across Genders"
   ]
  },
  {
   "cell_type": "code",
   "execution_count": 8,
   "metadata": {
    "collapsed": false,
    "deletable": true,
    "editable": true
   },
   "outputs": [
    {
     "name": "stdout",
     "output_type": "stream",
     "text": [
      "[(943, (5, 'M')), (943, (5, 'M')), (943, (5, 'M'))]\n",
      "Wall time: 14.3 s\n"
     ]
    }
   ],
   "source": [
    "%%time\n",
    "#Join the RDDs [(user, rating)] and [(user, gender)] to get RDD [(user, (rating, gender)]  and PERSIST it\n",
    "joinRatingUser = ratingRDD.map(lambda line : (line[1], (line[2]))).join(userRDD.map(lambda user: (user[0], user[1]))).persist()\n",
    "print (joinRatingUser.top(3))"
   ]
  },
  {
   "cell_type": "code",
   "execution_count": 9,
   "metadata": {
    "collapsed": false,
    "deletable": true,
    "editable": true
   },
   "outputs": [
    {
     "name": "stdout",
     "output_type": "stream",
     "text": [
      "[('M', 1), ('M', 1), ('M', 1)]\n",
      "[(('M', 5), 1), (('M', 5), 1), (('M', 5), 1)]\n",
      "Wall time: 8.13 s\n"
     ]
    }
   ],
   "source": [
    "%%time\n",
    "# Transform to RDD [((Gender, 1))] \n",
    "genderRatingsRDD = joinRatingUser.map(lambda line: (line[1][1], 1))\n",
    "print (genderRatingsRDD.top(3))\n",
    "\n",
    "# Transform to RDD [((Gender, Rating), 1)]\n",
    "genderRatingTypesRDD = joinRatingUser.map(lambda line: ((line[1][1], line[1][0]), 1))\n",
    "print (genderRatingTypesRDD.top(3))"
   ]
  },
  {
   "cell_type": "code",
   "execution_count": 10,
   "metadata": {
    "collapsed": false,
    "deletable": true,
    "editable": true
   },
   "outputs": [
    {
     "name": "stdout",
     "output_type": "stream",
     "text": [
      "gender \t rating \t percent \t countRatings\n",
      "F \t 1 \t\t 5.42 % \t 1292\n",
      "F \t 2 \t\t 10.65 % \t 2539\n",
      "F \t 3 \t\t 27.35 % \t 6523\n",
      "F \t 4 \t\t 35.15 % \t 8383\n",
      "F \t 5 \t\t 21.44 % \t 5113\n",
      "M \t 1 \t\t 5.34 % \t 3565\n",
      "M \t 2 \t\t 10.75 % \t 7182\n",
      "M \t 3 \t\t 26.53 % \t 17721\n",
      "M \t 4 \t\t 34.92 % \t 23325\n",
      "M \t 5 \t\t 22.46 % \t 15000\n",
      "Wall time: 42.1 s\n"
     ]
    }
   ],
   "source": [
    "%%time\n",
    "\n",
    "# Transform to RDD [(Gender, totalRatings)]\n",
    "genderRatingsTotal = genderRatingsRDD.reduceByKey(lambda x, y: x + y)\n",
    "#print (genderRatingsTotal.top(3))\n",
    "\n",
    "# Transform to RDD [((Gender, Rating), totalGenderRatings)]\n",
    "calcRatingsTypesTotal = genderRatingTypesRDD.reduceByKey(lambda x, y: x + y).sortBy(lambda x: x[0])\n",
    "\n",
    "# Transform to RDD [(Gender, (Rating, totalGenderRatings))]\n",
    "genderRatingsTypesTotal = calcRatingsTypesTotal.map(lambda x: (x[0][0], (x[0][1], x[1])))\n",
    "#print (genderRatingsTypesTotal.top(3))\n",
    "\n",
    "#lkup = genderRatingsTotal.collect()\n",
    "\n",
    "#Transform RDD to [(gender, ratingType, totalGenderRatings, totalRatings)]\n",
    "lookupGenderRatingsTotal = genderRatingsTypesTotal.join(genderRatingsTotal).map(lambda x: (x[0], x[1][0][0], x[1][0][1], x[1][1]))\n",
    "\n",
    "#Transform RDD to [(gender, ratingType, %Ratings, totalGenderRatings)]\n",
    "percentGenderRatings = lookupGenderRatingsTotal.map(lambda x: (x[0], x[1], round(float((x[2]*100)/x[3]),2), x[2]))\n",
    "#print (percentGenderRatings.top(3))\n",
    "\n",
    "print ('gender \\t rating \\t percent \\t countRatings')\n",
    "for gender, rating, percent, totalGenderRatings in percentGenderRatings.collect():\n",
    "    print (gender,'\\t', rating,'\\t\\t', percent,'% \\t', totalGenderRatings)"
   ]
  },
  {
   "cell_type": "code",
   "execution_count": null,
   "metadata": {
    "collapsed": true,
    "deletable": true,
    "editable": true
   },
   "outputs": [],
   "source": []
  },
  {
   "cell_type": "markdown",
   "metadata": {
    "deletable": true,
    "editable": true
   },
   "source": [
    "### Testing the reduceByKey "
   ]
  },
  {
   "cell_type": "code",
   "execution_count": 11,
   "metadata": {
    "collapsed": false,
    "deletable": true,
    "editable": true
   },
   "outputs": [
    {
     "name": "stdout",
     "output_type": "stream",
     "text": [
      "[('b', 1), ('a', 2)]\n"
     ]
    }
   ],
   "source": [
    "rdd = sc.parallelize([(\"a\", 1), (\"b\", 1), (\"a\", 1)])\n",
    "cnt = rdd.reduceByKey(lambda x, y: x + y)\n",
    "print (cnt.top(5))"
   ]
  },
  {
   "cell_type": "code",
   "execution_count": 12,
   "metadata": {
    "collapsed": false,
    "deletable": true,
    "editable": true
   },
   "outputs": [
    {
     "name": "stdout",
     "output_type": "stream",
     "text": [
      "[('b', (2, 4)), ('a', (2, 5))]\n"
     ]
    }
   ],
   "source": [
    "# RDD do not have anything similar to SQL window functions\n",
    "# to compute aggregations, need to group by Key and have to perform some kind of agregation funciton on all the values\n",
    "rdd1 = sc.parallelize([(\"a\", (1, 5)), (\"b\", (1, 2)), (\"a\", (1, 3)), (\"b\", (1, 4))])\n",
    "cnt1 = rdd1.reduceByKey(lambda x, y: (x[0] + y[0], max(x[1], y[1])))\n",
    "print (cnt1.top(5))"
   ]
  }
 ],
 "metadata": {
  "kernelspec": {
   "display_name": "Python 3",
   "language": "python",
   "name": "python3"
  },
  "language_info": {
   "codemirror_mode": {
    "name": "ipython",
    "version": 3
   },
   "file_extension": ".py",
   "mimetype": "text/x-python",
   "name": "python",
   "nbconvert_exporter": "python",
   "pygments_lexer": "ipython3",
   "version": "3.5.2"
  }
 },
 "nbformat": 4,
 "nbformat_minor": 2
}
