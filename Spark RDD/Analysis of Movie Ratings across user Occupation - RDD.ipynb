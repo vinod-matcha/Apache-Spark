{
 "cells": [
  {
   "cell_type": "code",
   "execution_count": 2,
   "metadata": {
    "collapsed": true,
    "deletable": true,
    "editable": true
   },
   "outputs": [],
   "source": [
    "#import movie ratings into RDD\n",
    "ratingLines = sc.textFile(\"C:/SparkCourse/ml-100k/u.data\")\n",
    "#import user details into RDD\n",
    "userLines = sc.textFile(\"///SparkCourse/ml-100k/u.user\")\n",
    "#import movie data into RDD\n",
    "movieLines = sc.textFile(\"C:/SparkCourse/ml-100k/u.item\")\n",
    "#import genre data into RDD\n",
    "genreLines = sc.textFile(\"C:/SparkCourse/ml-100k/u.genre\")"
   ]
  },
  {
   "cell_type": "code",
   "execution_count": 3,
   "metadata": {
    "collapsed": false,
    "deletable": true,
    "editable": true
   },
   "outputs": [
    {
     "name": "stdout",
     "output_type": "stream",
     "text": [
      "ratingRDD:\n",
      " [(943, 1330, 3), (943, 1228, 3), (943, 1188, 3), (943, 1074, 4), (943, 1067, 2)]\n",
      "userRDD:\n",
      " [(943, 'M', 'student'), (942, 'F', 'librarian'), (941, 'M', 'student')]\n",
      "movieRDD:\n",
      " [(1682, 'Scream of Stone (Schrei aus Stein) (1991)'), (1681, 'You So Crazy (1994)'), (1680, 'Sliding Doors (1998)')]\n",
      "genreRDD:\n",
      " [(0, 'unknown'), (1, 'Action'), (2, 'Adventure')]\n"
     ]
    }
   ],
   "source": [
    "#split on delimiter functions\n",
    "def splitRatingTab(line):\n",
    "    line = line.split('\\t')\n",
    "    return (int(line[0]), int(line[1]), int(line[2])) #(movieid, user, rating)\n",
    "def splitUserPipe(line):\n",
    "    line = line.split('|')\n",
    "    return (int(line[0]), line[2], line[3]) #(user, gender, occupation)\n",
    "def splitMoviePipe(line):\n",
    "    line = line.split('|')\n",
    "    return (int(line[0]), line[1]) #(movieid, moviename)\n",
    "def splitGenrePipe(line):\n",
    "    line = line.split('|')    \n",
    "    return (int(line[1]), line[0]) #(genreId, genre)\n",
    "\n",
    "\n",
    "# Transform to RDD as [(movieid, user, rating)] for movies with rating >=3, which are liked by viewers\n",
    "ratingRDD = ratingLines.map(lambda line: splitRatingTab(line))\n",
    "print ('ratingRDD:\\n',ratingRDD.top(5))\n",
    "\n",
    "# Transform to RDD as [(user, gender, occupation)]\n",
    "userRDD = userLines.map(splitUserPipe)\n",
    "print ('userRDD:\\n',userRDD.top(3))\n",
    "\n",
    "# Transform to RDD as [(movieid, moviename)]\n",
    "movieRDD = movieLines.map(splitMoviePipe)\n",
    "print ('movieRDD:\\n',movieRDD.top(3))\n",
    "\n",
    "# Transform to RDD as [(genreId, genre)]\n",
    "genreRDD = genreLines.map(lambda line: splitGenrePipe(line))\n",
    "print ('genreRDD:\\n',genreRDD.take(3))"
   ]
  },
  {
   "cell_type": "code",
   "execution_count": 4,
   "metadata": {
    "collapsed": false,
    "deletable": true,
    "editable": true
   },
   "outputs": [
    {
     "name": "stdout",
     "output_type": "stream",
     "text": [
      "[(943, (5, 'student')), (943, (5, 'student')), (943, (5, 'student'))]\n",
      "Wall time: 15.9 s\n"
     ]
    }
   ],
   "source": [
    "%%time\n",
    "#Join the RDDs [(user, rating)] and [(user, gender)] to get RDD [(user, (rating, occupation)]  and PERSIST it\n",
    "joinRatingUser = ratingRDD.map(lambda line : (line[1], (line[2]))).join(userRDD.map(lambda user: (user[0], user[2]))).persist()\n",
    "print (joinRatingUser.top(3))"
   ]
  },
  {
   "cell_type": "code",
   "execution_count": 5,
   "metadata": {
    "collapsed": false,
    "deletable": true,
    "editable": true
   },
   "outputs": [
    {
     "name": "stdout",
     "output_type": "stream",
     "text": [
      "[('writer', 1), ('writer', 1), ('writer', 1)]\n",
      "[(('writer', 5), 1), (('writer', 5), 1), (('writer', 5), 1)]\n",
      "Wall time: 8.53 s\n"
     ]
    }
   ],
   "source": [
    "%%time\n",
    "# Transform to RDD [((Occupation, 1))] \n",
    "occupationRatingsRDD = joinRatingUser.map(lambda line: (line[1][1], 1))\n",
    "print (occupationRatingsRDD.top(3))\n",
    "\n",
    "# Transform to RDD [((Occupation, Rating), 1)]\n",
    "occupationRatingTypesRDD = joinRatingUser.map(lambda line: ((line[1][1], line[1][0]), 1))\n",
    "print (occupationRatingTypesRDD.top(3))"
   ]
  },
  {
   "cell_type": "code",
   "execution_count": 6,
   "metadata": {
    "collapsed": false,
    "deletable": true,
    "editable": true
   },
   "outputs": [
    {
     "name": "stdout",
     "output_type": "stream",
     "text": [
      "occupation \t rating \t percent \t countRatings\n",
      "       engineer \t 1 \t\t 4.99 % \t 327\n",
      "       engineer \t 2 \t\t 10.78 % \t 706\n",
      "       engineer \t 3 \t\t 28.1 % \t 1840\n",
      "       engineer \t 4 \t\t 36.59 % \t 2396\n",
      "       engineer \t 5 \t\t 19.53 % \t 1279\n",
      "         artist \t 1 \t\t 5.4 % \t 151\n",
      "         artist \t 2 \t\t 11.49 % \t 321\n",
      "         artist \t 3 \t\t 27.52 % \t 769\n",
      "         artist \t 4 \t\t 35.08 % \t 980\n",
      "         artist \t 5 \t\t 20.51 % \t 573\n",
      "  administrator \t 1 \t\t 4.81 % \t 436\n",
      "  administrator \t 2 \t\t 10.8 % \t 979\n",
      "  administrator \t 3 \t\t 25.49 % \t 2310\n",
      "  administrator \t 4 \t\t 35.79 % \t 3243\n",
      "  administrator \t 5 \t\t 23.1 % \t 2093\n",
      "          other \t 1 \t\t 5.41 % \t 453\n",
      "          other \t 2 \t\t 11.47 % \t 960\n",
      "          other \t 3 \t\t 27.5 % \t 2301\n",
      "          other \t 4 \t\t 33.14 % \t 2773\n",
      "          other \t 5 \t\t 22.47 % \t 1880\n",
      "      marketing \t 1 \t\t 4.86 % \t 145\n",
      "      marketing \t 2 \t\t 9.39 % \t 280\n",
      "      marketing \t 3 \t\t 24.35 % \t 726\n",
      "      marketing \t 4 \t\t 34.42 % \t 1026\n",
      "      marketing \t 5 \t\t 26.97 % \t 804\n",
      "         writer \t 1 \t\t 4.66 % \t 178\n",
      "         writer \t 2 \t\t 8.65 % \t 330\n",
      "         writer \t 3 \t\t 23.32 % \t 890\n",
      "         writer \t 4 \t\t 35.74 % \t 1364\n",
      "         writer \t 5 \t\t 27.62 % \t 1054\n",
      "      scientist \t 1 \t\t 4.6 % \t 138\n",
      "      scientist \t 2 \t\t 7.96 % \t 239\n",
      "      scientist \t 3 \t\t 23.92 % \t 718\n",
      "      scientist \t 4 \t\t 34.98 % \t 1050\n",
      "      scientist \t 5 \t\t 28.55 % \t 857\n",
      "      librarian \t 1 \t\t 5.66 % \t 280\n",
      "      librarian \t 2 \t\t 11.78 % \t 583\n",
      "      librarian \t 3 \t\t 27.88 % \t 1379\n",
      "      librarian \t 4 \t\t 33.7 % \t 1667\n",
      "      librarian \t 5 \t\t 20.98 % \t 1038\n",
      "      executive \t 1 \t\t 4.4 % \t 193\n",
      "      executive \t 2 \t\t 9.06 % \t 397\n",
      "      executive \t 3 \t\t 23.16 % \t 1015\n",
      "      executive \t 4 \t\t 36.33 % \t 1592\n",
      "      executive \t 5 \t\t 27.04 % \t 1185\n",
      "        student \t 1 \t\t 5.25 % \t 963\n",
      "        student \t 2 \t\t 11.21 % \t 2058\n",
      "        student \t 3 \t\t 28.74 % \t 5276\n",
      "        student \t 4 \t\t 35.49 % \t 6514\n",
      "        student \t 5 \t\t 19.31 % \t 3544\n",
      "        retired \t 1 \t\t 4.33 % \t 57\n",
      "        retired \t 2 \t\t 6.77 % \t 89\n",
      "        retired \t 3 \t\t 20.3 % \t 267\n",
      "        retired \t 4 \t\t 34.83 % \t 458\n",
      "        retired \t 5 \t\t 33.76 % \t 444\n",
      "           none \t 1 \t\t 6.04 % \t 79\n",
      "           none \t 2 \t\t 10.63 % \t 139\n",
      "           none \t 3 \t\t 22.17 % \t 290\n",
      "           none \t 4 \t\t 33.03 % \t 432\n",
      "           none \t 5 \t\t 28.13 % \t 368\n",
      "      homemaker \t 1 \t\t 8.94 % \t 38\n",
      "      homemaker \t 2 \t\t 12.94 % \t 55\n",
      "      homemaker \t 3 \t\t 32.94 % \t 140\n",
      "      homemaker \t 4 \t\t 33.65 % \t 143\n",
      "      homemaker \t 5 \t\t 11.53 % \t 49\n",
      "         lawyer \t 1 \t\t 3.75 % \t 46\n",
      "         lawyer \t 2 \t\t 11.75 % \t 144\n",
      "         lawyer \t 3 \t\t 30.75 % \t 377\n",
      "         lawyer \t 4 \t\t 31.24 % \t 383\n",
      "         lawyer \t 5 \t\t 22.51 % \t 276\n",
      "     healthcare \t 1 \t\t 4.27 % \t 73\n",
      "     healthcare \t 2 \t\t 9.59 % \t 164\n",
      "     healthcare \t 3 \t\t 27.54 % \t 471\n",
      "     healthcare \t 4 \t\t 36.08 % \t 617\n",
      "     healthcare \t 5 \t\t 22.51 % \t 385\n",
      "       educator \t 1 \t\t 6.96 % \t 546\n",
      "       educator \t 2 \t\t 11.8 % \t 925\n",
      "       educator \t 3 \t\t 26.72 % \t 2095\n",
      "       educator \t 4 \t\t 33.59 % \t 2634\n",
      "       educator \t 5 \t\t 20.94 % \t 1642\n",
      "         doctor \t 1 \t\t 5.78 % \t 34\n",
      "         doctor \t 2 \t\t 8.33 % \t 49\n",
      "         doctor \t 3 \t\t 24.32 % \t 143\n",
      "         doctor \t 4 \t\t 35.2 % \t 207\n",
      "         doctor \t 5 \t\t 26.36 % \t 155\n",
      "     programmer \t 1 \t\t 4.78 % \t 319\n",
      "     programmer \t 2 \t\t 9.68 % \t 646\n",
      "     programmer \t 3 \t\t 26.0 % \t 1735\n",
      "     programmer \t 4 \t\t 36.26 % \t 2420\n",
      "     programmer \t 5 \t\t 23.28 % \t 1554\n",
      "       salesman \t 1 \t\t 6.02 % \t 60\n",
      "       salesman \t 2 \t\t 11.75 % \t 117\n",
      "       salesman \t 3 \t\t 26.31 % \t 262\n",
      "       salesman \t 4 \t\t 37.75 % \t 376\n",
      "       salesman \t 5 \t\t 18.17 % \t 181\n",
      "     technician \t 1 \t\t 7.98 % \t 233\n",
      "     technician \t 2 \t\t 12.02 % \t 351\n",
      "     technician \t 3 \t\t 29.11 % \t 850\n",
      "     technician \t 4 \t\t 33.7 % \t 984\n",
      "     technician \t 5 \t\t 17.19 % \t 502\n",
      "  entertainment \t 1 \t\t 7.79 % \t 108\n",
      "  entertainment \t 2 \t\t 13.64 % \t 189\n",
      "  entertainment \t 3 \t\t 28.14 % \t 390\n",
      "  entertainment \t 4 \t\t 32.4 % \t 449\n",
      "  entertainment \t 5 \t\t 18.04 % \t 250\n",
      "Wall time: 42.6 s\n"
     ]
    }
   ],
   "source": [
    "%%time\n",
    "\n",
    "# Transform to RDD [(Gender, totalRatings)]\n",
    "occupationRatingsTotal = occupationRatingsRDD.reduceByKey(lambda x, y: x + y)\n",
    "#print (genderRatingsTotal.top(3))\n",
    "\n",
    "# Transform to RDD [((Gender, Rating), totalGenderRatings)]\n",
    "calcRatingsTypesTotal = occupationRatingTypesRDD.reduceByKey(lambda x, y: x + y).sortBy(lambda x: x[0])\n",
    "\n",
    "# Transform to RDD [(Gender, (Rating, totalGenderRatings))]\n",
    "occupationRatingsTypesTotal = calcRatingsTypesTotal.map(lambda x: (x[0][0], (x[0][1], x[1])))\n",
    "\n",
    "\n",
    "#Transform RDD to [(gender, ratingType, totalGenderRatings, totalRatings)]\n",
    "lookupOccupRatingsTotal = occupationRatingsTypesTotal.join(occupationRatingsTotal).map(lambda x: (x[0], x[1][0][0], x[1][0][1], x[1][1]))\n",
    "\n",
    "#Transform RDD to [(gender, ratingType, %Ratings, totalGenderRatings)]\n",
    "percentOccupRatings = lookupOccupRatingsTotal.map(lambda x: (x[0], x[1], round(float((x[2]*100)/x[3]),2), x[2]))\n",
    "\n",
    "print ('occupation \\t rating \\t percent \\t countRatings')\n",
    "for occupation, rating, percent, totalOccupRatings in percentOccupRatings.collect():\n",
    "    print (occupation.rjust(15),'\\t', rating,'\\t\\t', percent,'% \\t', totalOccupRatings)"
   ]
  },
  {
   "cell_type": "code",
   "execution_count": null,
   "metadata": {
    "collapsed": true,
    "deletable": true,
    "editable": true
   },
   "outputs": [],
   "source": []
  }
 ],
 "metadata": {
  "kernelspec": {
   "display_name": "Python 3",
   "language": "python",
   "name": "python3"
  },
  "language_info": {
   "codemirror_mode": {
    "name": "ipython",
    "version": 3
   },
   "file_extension": ".py",
   "mimetype": "text/x-python",
   "name": "python",
   "nbconvert_exporter": "python",
   "pygments_lexer": "ipython3",
   "version": "3.5.2"
  }
 },
 "nbformat": 4,
 "nbformat_minor": 2
}
