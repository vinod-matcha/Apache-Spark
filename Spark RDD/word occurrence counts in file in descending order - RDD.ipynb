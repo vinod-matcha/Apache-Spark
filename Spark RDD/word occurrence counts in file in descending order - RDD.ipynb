{
 "cells": [
  {
   "cell_type": "code",
   "execution_count": 90,
   "metadata": {
    "collapsed": true
   },
   "outputs": [],
   "source": [
    "#create rdd from file\n",
    "lines = sc.textFile(\"C:/SparkCourse/book.txt\")"
   ]
  },
  {
   "cell_type": "code",
   "execution_count": 98,
   "metadata": {
    "collapsed": true
   },
   "outputs": [],
   "source": [
    "#function to parse line to words of lower case and space as delimiter\n",
    "def splitWords(line):\n",
    "    return line.lower().split()"
   ]
  },
  {
   "cell_type": "code",
   "execution_count": 99,
   "metadata": {
    "collapsed": true
   },
   "outputs": [],
   "source": [
    "#convert RDD of line row objects into multiple words objects\n",
    "wordsRdd = lines.flatMap(splitWords).map(lambda x: (x,1))"
   ]
  },
  {
   "cell_type": "code",
   "execution_count": 100,
   "metadata": {
    "collapsed": false
   },
   "outputs": [
    {
     "name": "stdout",
     "output_type": "stream",
     "text": [
      "[('self-employment:', 1), ('building', 1), ('an', 1), ('internet', 1), ('business', 1), ('of', 1), ('one', 1), ('achieving', 1), ('financial', 1), ('and', 1)]\n"
     ]
    }
   ],
   "source": [
    "print (wordsRdd.take(10))"
   ]
  },
  {
   "cell_type": "code",
   "execution_count": 101,
   "metadata": {
    "collapsed": false
   },
   "outputs": [],
   "source": [
    "# Transform to RDD [word, count] and sort descending\n",
    "wordCountOccurance = wordsRdd.reduceByKey(lambda x, y: x + y).sortBy(lambda x: x[1], 0)"
   ]
  },
  {
   "cell_type": "code",
   "execution_count": 102,
   "metadata": {
    "collapsed": false
   },
   "outputs": [
    {
     "name": "stdout",
     "output_type": "stream",
     "text": [
      "cnt \t word \t\t count\n",
      "0 \t to \t\t 1801\n",
      "1 \t your \t\t 1416\n",
      "2 \t you \t\t 1415\n",
      "3 \t the \t\t 1282\n",
      "4 \t a \t\t 1187\n",
      "5 \t of \t\t 960\n",
      "6 \t and \t\t 923\n",
      "7 \t that \t\t 662\n",
      "8 \t in \t\t 594\n",
      "9 \t is \t\t 549\n",
      "10 \t for \t\t 522\n"
     ]
    }
   ],
   "source": [
    "print ('cnt \\t word \\t\\t count')\n",
    "for cnt, i in enumerate(wordCountOccurance.collect()):\n",
    "    print (cnt ,'\\t', i[0] ,'\\t\\t', i[1])\n",
    "    if cnt >= 10:\n",
    "        break"
   ]
  },
  {
   "cell_type": "code",
   "execution_count": null,
   "metadata": {
    "collapsed": true
   },
   "outputs": [],
   "source": []
  }
 ],
 "metadata": {
  "kernelspec": {
   "display_name": "Python 3",
   "language": "python",
   "name": "python3"
  },
  "language_info": {
   "codemirror_mode": {
    "name": "ipython",
    "version": 3
   },
   "file_extension": ".py",
   "mimetype": "text/x-python",
   "name": "python",
   "nbconvert_exporter": "python",
   "pygments_lexer": "ipython3",
   "version": "3.5.2"
  }
 },
 "nbformat": 4,
 "nbformat_minor": 2
}
