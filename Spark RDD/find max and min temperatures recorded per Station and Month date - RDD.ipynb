{
 "cells": [
  {
   "cell_type": "code",
   "execution_count": 1,
   "metadata": {
    "collapsed": true,
    "deletable": true,
    "editable": true
   },
   "outputs": [],
   "source": [
    "#load source file into RDD, as line objects\n",
    "lines = sc.textFile(\"/SparkCourse/1800.csv\")"
   ]
  },
  {
   "cell_type": "code",
   "execution_count": 2,
   "metadata": {
    "collapsed": false,
    "deletable": true,
    "editable": true
   },
   "outputs": [
    {
     "name": "stdout",
     "output_type": "stream",
     "text": [
      "['ITE00100554,18001231,TMIN,25,,,E,', 'ITE00100554,18001231,TMAX,50,,,E,', 'ITE00100554,18001230,TMIN,31,,,E,', 'ITE00100554,18001230,TMAX,50,,,E,', 'ITE00100554,18001229,TMIN,16,,,E,']\n"
     ]
    }
   ],
   "source": [
    "print (lines.top(5))"
   ]
  },
  {
   "cell_type": "code",
   "execution_count": 57,
   "metadata": {
    "collapsed": false,
    "deletable": true,
    "editable": true
   },
   "outputs": [],
   "source": [
    "#function to split on comma, and return as [((station, TempDateMonth), (tempType, Temp))]\n",
    "#return only YearMonth value in TempDateMonth \n",
    "def splitOnComma(line):\n",
    "    line = line.split(',')\n",
    "    return ((line[0], line[1][:6]), (line[2], int(line[3])))"
   ]
  },
  {
   "cell_type": "markdown",
   "metadata": {
    "deletable": true,
    "editable": true
   },
   "source": [
    "##### Using mapValues which doesnot reshuffle the partitions again, so planned the func 'splitOnComma' to return (key,values) as needed\n",
    "##### Note: The value part of the key, value pair will only include the first element in the values if not grouped by brackets\n",
    "\n",
    "      ex1: [(('ITE00100554', '18000101'), 'TMIN', -148)  #here value is 'TMIN', value[1] returns 'M'\n",
    "      ex2: [(('ITE00100554', '18000101'), ('TMIN', -148))  #here value is ('TMIN', -148), value[1] returns -148"
   ]
  },
  {
   "cell_type": "code",
   "execution_count": 58,
   "metadata": {
    "collapsed": false,
    "deletable": true,
    "editable": true
   },
   "outputs": [],
   "source": [
    "#Transform to (key, value) RDD1 as [((station, minTempDate), minTemp)], RDD2 as [((station, maxTempDate), maxTemp)], then filter on approptiate tempType\n",
    "#using mapValues which doesnot reshuffle the partitions again, so planned the func 'splitOnComma' to return keyvalues as needed\n",
    "\n",
    "rddLinesMin = lines.map(lambda line: splitOnComma(line)).filter(lambda line: line[1][0] == 'TMIN').mapValues(lambda x: x[1])\n",
    "rddLinesMax = lines.map(lambda line: splitOnComma(line)).filter(lambda line: line[1][0] == 'TMAX').mapValues(lambda x: x[1])"
   ]
  },
  {
   "cell_type": "code",
   "execution_count": 59,
   "metadata": {
    "collapsed": false,
    "deletable": true,
    "editable": true
   },
   "outputs": [
    {
     "name": "stdout",
     "output_type": "stream",
     "text": [
      "rddLinesMin:  [(('ITE00100554', '180001'), -148), (('EZE00100082', '180001'), -135), (('ITE00100554', '180001'), -125), (('EZE00100082', '180001'), -130), (('ITE00100554', '180001'), -46)]\n",
      "\n",
      "rddLinesMax:  [(('ITE00100554', '180001'), -75), (('EZE00100082', '180001'), -86), (('ITE00100554', '180001'), -60), (('EZE00100082', '180001'), -44), (('ITE00100554', '180001'), -23)]\n"
     ]
    }
   ],
   "source": [
    "print ('rddLinesMin: ',rddLinesMin.take(5))\n",
    "print ('\\nrddLinesMax: ',rddLinesMax.take(5))"
   ]
  },
  {
   "cell_type": "code",
   "execution_count": 60,
   "metadata": {
    "collapsed": true,
    "deletable": true,
    "editable": true
   },
   "outputs": [],
   "source": [
    "#Transform to calculate the minimum temperature and maximum temperature records for each key(station, Tempdate)\n",
    "rddStationMinTemp = rddLinesMin.reduceByKey(lambda x, y: x if x <= y else y)\n",
    "rddStationMaxTemp = rddLinesMax.reduceByKey(lambda x, y: x if x >= y else y)"
   ]
  },
  {
   "cell_type": "code",
   "execution_count": 63,
   "metadata": {
    "collapsed": false,
    "deletable": true,
    "editable": true
   },
   "outputs": [
    {
     "name": "stdout",
     "output_type": "stream",
     "text": [
      "rddStationMinTemp:  [(('ITE00100554', '180007'), 163), (('ITE00100554', '180009'), 100), (('EZE00100082', '180001'), -135), (('ITE00100554', '180001'), -148), (('EZE00100082', '180006'), 82)]\n",
      "ddStationMaxTemp:  [(('ITE00100554', '180007'), 319), (('ITE00100554', '180009'), 250), (('EZE00100082', '180001'), 69), (('ITE00100554', '180001'), 98), (('EZE00100082', '180006'), 250)]\n"
     ]
    }
   ],
   "source": [
    "print ('rddStationMinTemp: ',rddStationMinTemp.take(5))\n",
    "print ('\\rddStationMaxTemp: ',rddStationMaxTemp.take(5))"
   ]
  },
  {
   "cell_type": "code",
   "execution_count": 64,
   "metadata": {
    "collapsed": true,
    "deletable": true,
    "editable": true
   },
   "outputs": [],
   "source": [
    "# Outerjoin the RDD1 and RDD2 on Keys, by Transforming into [((station, maxTempDate), (minTemp, maxTemp)]\n",
    "joinRDD1RDD2 = rddStationMinTemp.fullOuterJoin(rddStationMaxTemp).sortBy(lambda x: x[0][1])"
   ]
  },
  {
   "cell_type": "code",
   "execution_count": 65,
   "metadata": {
    "collapsed": false,
    "deletable": true,
    "editable": true
   },
   "outputs": [
    {
     "name": "stdout",
     "output_type": "stream",
     "text": [
      "stationID, dateMonth, minTemp, MaxTemp\n",
      "ITE00100554 180001 -148 98\n",
      "EZE00100082 180001 -135 69\n",
      "EZE00100082 180002 -102 67\n",
      "ITE00100554 180002 0 129\n",
      "ITE00100554 180003 0 141\n",
      "EZE00100082 180003 -130 123\n",
      "ITE00100554 180004 75 235\n",
      "EZE00100082 180004 50 286\n",
      "ITE00100554 180005 96 269\n",
      "EZE00100082 180005 100 282\n",
      "EZE00100082 180006 82 250\n",
      "ITE00100554 180006 138 288\n",
      "ITE00100554 180007 163 319\n",
      "EZE00100082 180007 120 306\n",
      "EZE00100082 180008 117 323\n",
      "ITE00100554 180008 143 323\n",
      "ITE00100554 180009 100 250\n",
      "EZE00100082 180009 85 230\n",
      "ITE00100554 180010 31 200\n",
      "EZE00100082 180010 -11 174\n",
      "EZE00100082 180011 -6 173\n",
      "ITE00100554 180011 19 150\n",
      "EZE00100082 180012 -83 96\n",
      "ITE00100554 180012 -23 91\n"
     ]
    }
   ],
   "source": [
    "# Action to collect RDD into python object : to Return all the elements of the dataset RDD as an array at the driver program\n",
    "result = joinRDD1RDD2.collect()\n",
    "print ('stationID, dateMonth, minTemp, MaxTemp')\n",
    "for i, j in result:\n",
    "    print (i[0], i[1], j[0], j[1])"
   ]
  },
  {
   "cell_type": "code",
   "execution_count": 66,
   "metadata": {
    "collapsed": false,
    "deletable": true,
    "editable": true
   },
   "outputs": [
    {
     "name": "stdout",
     "output_type": "stream",
     "text": [
      "stationID, dateMonth, minTemp, MaxTemp\n",
      "ITE00100554 180001 -148 98\n",
      "EZE00100082 180001 -135 69\n",
      "EZE00100082 180002 -102 67\n",
      "ITE00100554 180002 0 129\n",
      "ITE00100554 180003 0 141\n",
      "EZE00100082 180003 -130 123\n",
      "ITE00100554 180004 75 235\n",
      "EZE00100082 180004 50 286\n",
      "ITE00100554 180005 96 269\n",
      "EZE00100082 180005 100 282\n",
      "EZE00100082 180006 82 250\n",
      "ITE00100554 180006 138 288\n",
      "ITE00100554 180007 163 319\n",
      "EZE00100082 180007 120 306\n",
      "EZE00100082 180008 117 323\n",
      "ITE00100554 180008 143 323\n",
      "ITE00100554 180009 100 250\n",
      "EZE00100082 180009 85 230\n",
      "ITE00100554 180010 31 200\n",
      "EZE00100082 180010 -11 174\n",
      "EZE00100082 180011 -6 173\n",
      "ITE00100554 180011 19 150\n",
      "EZE00100082 180012 -83 96\n",
      "ITE00100554 180012 -23 91\n"
     ]
    }
   ],
   "source": [
    "###################################################################################\n",
    "### find Max and Min Temperatures recorded per Station and Month date\n",
    "###################################################################################\n",
    "\n",
    "#broiler plate stuff to be un commented\n",
    "####from pyspark import SparkConf, SparkContext\n",
    "\n",
    "####conf = SparkConf().SetMaster(\"local\").setAppName(\"MovieCountByRatings\")\n",
    "####sc = SparkContext(conf = conf)\n",
    "\n",
    "#load source file into RDD, as line objects\n",
    "lines = sc.textFile(\"/SparkCourse/1800.csv\")\n",
    "\n",
    "#function to split on comma, and return as [((station, TempDateMonth), (tempType, Temp))]\n",
    "#return only YearMonth value in TempDateMonth \n",
    "def splitOnComma(line):\n",
    "    line = line.split(',')\n",
    "    return ((line[0], line[1][:6]), (line[2], int(line[3])))\n",
    "\n",
    "#Transform to (key, value) RDD1 as [((station, minTempDate), minTemp)], RDD2 as [((station, maxTempDate), maxTemp)], then filter on approptiate tempType\n",
    "#using mapValues which doesnot reshuffle the partitions again, so planned the func 'splitOnComma' to return keyvalues as needed\n",
    "rddLinesMin = lines.map(lambda line: splitOnComma(line)).filter(lambda line: line[1][0] == 'TMIN').mapValues(lambda x: x[1])\n",
    "rddLinesMax = lines.map(lambda line: splitOnComma(line)).filter(lambda line: line[1][0] == 'TMAX').mapValues(lambda x: x[1])\n",
    "\n",
    "#Transform to calculate the minimum temperature and maximum temperature records for each key(station, Tempdate)\n",
    "rddStationMinTemp = rddLinesMin.reduceByKey(lambda x, y: x if x <= y else y)\n",
    "rddStationMaxTemp = rddLinesMax.reduceByKey(lambda x, y: x if x >= y else y)\n",
    "\n",
    "# Outerjoin the RDD1 and RDD2 on Keys, by Transforming into [((station, maxTempDate), (minTemp, maxTemp)]\n",
    "joinRDD1RDD2 = rddStationMinTemp.fullOuterJoin(rddStationMaxTemp).sortBy(lambda x: x[0][1])\n",
    "\n",
    "# Action to collect RDD into python object : to Return all the elements of the dataset RDD as an array at the driver program\n",
    "result = joinRDD1RDD2.collect()\n",
    "print ('stationID, dateMonth, minTemp, MaxTemp')\n",
    "for i, j in result:\n",
    "    print (i[0], i[1], j[0], j[1])\n"
   ]
  },
  {
   "cell_type": "code",
   "execution_count": null,
   "metadata": {
    "collapsed": true,
    "deletable": true,
    "editable": true
   },
   "outputs": [],
   "source": []
  }
 ],
 "metadata": {
  "kernelspec": {
   "display_name": "Python 3",
   "language": "python",
   "name": "python3"
  },
  "language_info": {
   "codemirror_mode": {
    "name": "ipython",
    "version": 3
   },
   "file_extension": ".py",
   "mimetype": "text/x-python",
   "name": "python",
   "nbconvert_exporter": "python",
   "pygments_lexer": "ipython3",
   "version": "3.5.2"
  }
 },
 "nbformat": 4,
 "nbformat_minor": 2
}
